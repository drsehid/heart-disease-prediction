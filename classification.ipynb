{
 "cells": [
  {
   "cell_type": "markdown",
   "id": "9d88e706",
   "metadata": {},
   "source": [
    "# Description\n",
    "\n",
    "In this project, we are required to predict whether a patient has a high or low chance of having a heart attack based on the medical information provided in detail below. The data is saved in the file `heart.csv`.\n",
    "\n",
    "**Features**\n",
    "1. Age (`Age`)\n",
    "2. Gender (`Sex`)\n",
    "3. Does the pain start with any specific activity? (`exang`)\n",
    "  - 1 means Yes\n",
    "  - 0 means No\n",
    "4. Number of major vessels (`ca`)\n",
    "  - Values range from 0 to 3\n",
    "5. Type of chest pain (`cp`)\n",
    "  - 1: Direct heart pain\n",
    "  - 2: Indirect pain that leads to heart pain\n",
    "  - 3: Non-heart pain\n",
    "  - 4: Without symptoms\n",
    "6. Resting blood pressure (`trtbps`)\n",
    "7. Blood cholesterol (`chol`)\n",
    "8. Fasting blood sugar - diabetes (`fbs`)\n",
    "  - 1 means Yes\n",
    "  - 0 means No\n",
    "9. Result of rest ECG (`rest_ecg`)\n",
    "  - 0: Normal\n",
    "  - 1: ST segment of ECG is abnormal\n",
    "  - 2: Probably or definitely enlarged left ventricle\n",
    "10. Maximum heart rate achieved (`thalach`)\n",
    "11. Chance of heart attack (`target`)\n",
    "  - 0: Low chance\n",
    "  - 1: High chance\n"
   ]
  },
  {
   "cell_type": "markdown",
   "id": "f9e5f443",
   "metadata": {},
   "source": [
    "# Data Preprocessing"
   ]
  },
  {
   "cell_type": "markdown",
   "id": "08b74cec",
   "metadata": {},
   "source": [
    "### Import Packages"
   ]
  },
  {
   "cell_type": "code",
   "execution_count": 1,
   "id": "2f4376e4",
   "metadata": {},
   "outputs": [],
   "source": [
    "import pandas as pd\n",
    "import numpy as np\n",
    "import matplotlib.pyplot as plt\n",
    "import seaborn as sns"
   ]
  },
  {
   "cell_type": "markdown",
   "id": "9400205f",
   "metadata": {},
   "source": [
    "### 1. Reading the Data"
   ]
  },
  {
   "cell_type": "code",
   "execution_count": 2,
   "id": "5fea834b",
   "metadata": {},
   "outputs": [
    {
     "data": {
      "text/html": [
       "<div>\n",
       "<style scoped>\n",
       "    .dataframe tbody tr th:only-of-type {\n",
       "        vertical-align: middle;\n",
       "    }\n",
       "\n",
       "    .dataframe tbody tr th {\n",
       "        vertical-align: top;\n",
       "    }\n",
       "\n",
       "    .dataframe thead th {\n",
       "        text-align: right;\n",
       "    }\n",
       "</style>\n",
       "<table border=\"1\" class=\"dataframe\">\n",
       "  <thead>\n",
       "    <tr style=\"text-align: right;\">\n",
       "      <th></th>\n",
       "      <th>age</th>\n",
       "      <th>sex</th>\n",
       "      <th>cp</th>\n",
       "      <th>trtbps</th>\n",
       "      <th>chol</th>\n",
       "      <th>fbs</th>\n",
       "      <th>restecg</th>\n",
       "      <th>thalachh</th>\n",
       "      <th>exng</th>\n",
       "      <th>oldpeak</th>\n",
       "      <th>slp</th>\n",
       "      <th>caa</th>\n",
       "      <th>thall</th>\n",
       "      <th>output</th>\n",
       "    </tr>\n",
       "  </thead>\n",
       "  <tbody>\n",
       "    <tr>\n",
       "      <th>0</th>\n",
       "      <td>63</td>\n",
       "      <td>1</td>\n",
       "      <td>3</td>\n",
       "      <td>145</td>\n",
       "      <td>233</td>\n",
       "      <td>1</td>\n",
       "      <td>0</td>\n",
       "      <td>150</td>\n",
       "      <td>0</td>\n",
       "      <td>2.3</td>\n",
       "      <td>0</td>\n",
       "      <td>0</td>\n",
       "      <td>1</td>\n",
       "      <td>1</td>\n",
       "    </tr>\n",
       "    <tr>\n",
       "      <th>1</th>\n",
       "      <td>37</td>\n",
       "      <td>1</td>\n",
       "      <td>2</td>\n",
       "      <td>130</td>\n",
       "      <td>250</td>\n",
       "      <td>0</td>\n",
       "      <td>1</td>\n",
       "      <td>187</td>\n",
       "      <td>0</td>\n",
       "      <td>3.5</td>\n",
       "      <td>0</td>\n",
       "      <td>0</td>\n",
       "      <td>2</td>\n",
       "      <td>1</td>\n",
       "    </tr>\n",
       "    <tr>\n",
       "      <th>2</th>\n",
       "      <td>41</td>\n",
       "      <td>0</td>\n",
       "      <td>1</td>\n",
       "      <td>130</td>\n",
       "      <td>204</td>\n",
       "      <td>0</td>\n",
       "      <td>0</td>\n",
       "      <td>172</td>\n",
       "      <td>0</td>\n",
       "      <td>1.4</td>\n",
       "      <td>2</td>\n",
       "      <td>0</td>\n",
       "      <td>2</td>\n",
       "      <td>1</td>\n",
       "    </tr>\n",
       "    <tr>\n",
       "      <th>3</th>\n",
       "      <td>56</td>\n",
       "      <td>1</td>\n",
       "      <td>1</td>\n",
       "      <td>120</td>\n",
       "      <td>236</td>\n",
       "      <td>0</td>\n",
       "      <td>1</td>\n",
       "      <td>178</td>\n",
       "      <td>0</td>\n",
       "      <td>0.8</td>\n",
       "      <td>2</td>\n",
       "      <td>0</td>\n",
       "      <td>2</td>\n",
       "      <td>1</td>\n",
       "    </tr>\n",
       "    <tr>\n",
       "      <th>4</th>\n",
       "      <td>57</td>\n",
       "      <td>0</td>\n",
       "      <td>0</td>\n",
       "      <td>120</td>\n",
       "      <td>354</td>\n",
       "      <td>0</td>\n",
       "      <td>1</td>\n",
       "      <td>163</td>\n",
       "      <td>1</td>\n",
       "      <td>0.6</td>\n",
       "      <td>2</td>\n",
       "      <td>0</td>\n",
       "      <td>2</td>\n",
       "      <td>1</td>\n",
       "    </tr>\n",
       "  </tbody>\n",
       "</table>\n",
       "</div>"
      ],
      "text/plain": [
       "   age  sex  cp  trtbps  chol  fbs  restecg  thalachh  exng  oldpeak  slp  \\\n",
       "0   63    1   3     145   233    1        0       150     0      2.3    0   \n",
       "1   37    1   2     130   250    0        1       187     0      3.5    0   \n",
       "2   41    0   1     130   204    0        0       172     0      1.4    2   \n",
       "3   56    1   1     120   236    0        1       178     0      0.8    2   \n",
       "4   57    0   0     120   354    0        1       163     1      0.6    2   \n",
       "\n",
       "   caa  thall  output  \n",
       "0    0      1       1  \n",
       "1    0      2       1  \n",
       "2    0      2       1  \n",
       "3    0      2       1  \n",
       "4    0      2       1  "
      ]
     },
     "execution_count": 2,
     "metadata": {},
     "output_type": "execute_result"
    }
   ],
   "source": [
    "df = pd.read_csv('heart.csv')\n",
    "df.head()"
   ]
  },
  {
   "cell_type": "code",
   "execution_count": 3,
   "id": "5326ed67",
   "metadata": {},
   "outputs": [
    {
     "data": {
      "text/plain": [
       "(303, 14)"
      ]
     },
     "execution_count": 3,
     "metadata": {},
     "output_type": "execute_result"
    }
   ],
   "source": [
    "df.shape"
   ]
  },
  {
   "cell_type": "code",
   "execution_count": 4,
   "id": "52b6eb51",
   "metadata": {},
   "outputs": [
    {
     "data": {
      "text/html": [
       "<div>\n",
       "<style scoped>\n",
       "    .dataframe tbody tr th:only-of-type {\n",
       "        vertical-align: middle;\n",
       "    }\n",
       "\n",
       "    .dataframe tbody tr th {\n",
       "        vertical-align: top;\n",
       "    }\n",
       "\n",
       "    .dataframe thead th {\n",
       "        text-align: right;\n",
       "    }\n",
       "</style>\n",
       "<table border=\"1\" class=\"dataframe\">\n",
       "  <thead>\n",
       "    <tr style=\"text-align: right;\">\n",
       "      <th></th>\n",
       "      <th>age</th>\n",
       "      <th>sex</th>\n",
       "      <th>cp</th>\n",
       "      <th>trtbps</th>\n",
       "      <th>chol</th>\n",
       "      <th>fbs</th>\n",
       "      <th>restecg</th>\n",
       "      <th>thalachh</th>\n",
       "      <th>exng</th>\n",
       "      <th>oldpeak</th>\n",
       "      <th>slp</th>\n",
       "      <th>caa</th>\n",
       "      <th>thall</th>\n",
       "      <th>output</th>\n",
       "    </tr>\n",
       "  </thead>\n",
       "  <tbody>\n",
       "    <tr>\n",
       "      <th>count</th>\n",
       "      <td>303.000000</td>\n",
       "      <td>303.000000</td>\n",
       "      <td>303.000000</td>\n",
       "      <td>303.000000</td>\n",
       "      <td>303.000000</td>\n",
       "      <td>303.000000</td>\n",
       "      <td>303.000000</td>\n",
       "      <td>303.000000</td>\n",
       "      <td>303.000000</td>\n",
       "      <td>303.000000</td>\n",
       "      <td>303.000000</td>\n",
       "      <td>303.000000</td>\n",
       "      <td>303.000000</td>\n",
       "      <td>303.000000</td>\n",
       "    </tr>\n",
       "    <tr>\n",
       "      <th>mean</th>\n",
       "      <td>54.366337</td>\n",
       "      <td>0.683168</td>\n",
       "      <td>0.966997</td>\n",
       "      <td>131.623762</td>\n",
       "      <td>246.264026</td>\n",
       "      <td>0.148515</td>\n",
       "      <td>0.528053</td>\n",
       "      <td>149.646865</td>\n",
       "      <td>0.326733</td>\n",
       "      <td>1.039604</td>\n",
       "      <td>1.399340</td>\n",
       "      <td>0.729373</td>\n",
       "      <td>2.313531</td>\n",
       "      <td>0.544554</td>\n",
       "    </tr>\n",
       "    <tr>\n",
       "      <th>std</th>\n",
       "      <td>9.082101</td>\n",
       "      <td>0.466011</td>\n",
       "      <td>1.032052</td>\n",
       "      <td>17.538143</td>\n",
       "      <td>51.830751</td>\n",
       "      <td>0.356198</td>\n",
       "      <td>0.525860</td>\n",
       "      <td>22.905161</td>\n",
       "      <td>0.469794</td>\n",
       "      <td>1.161075</td>\n",
       "      <td>0.616226</td>\n",
       "      <td>1.022606</td>\n",
       "      <td>0.612277</td>\n",
       "      <td>0.498835</td>\n",
       "    </tr>\n",
       "    <tr>\n",
       "      <th>min</th>\n",
       "      <td>29.000000</td>\n",
       "      <td>0.000000</td>\n",
       "      <td>0.000000</td>\n",
       "      <td>94.000000</td>\n",
       "      <td>126.000000</td>\n",
       "      <td>0.000000</td>\n",
       "      <td>0.000000</td>\n",
       "      <td>71.000000</td>\n",
       "      <td>0.000000</td>\n",
       "      <td>0.000000</td>\n",
       "      <td>0.000000</td>\n",
       "      <td>0.000000</td>\n",
       "      <td>0.000000</td>\n",
       "      <td>0.000000</td>\n",
       "    </tr>\n",
       "    <tr>\n",
       "      <th>25%</th>\n",
       "      <td>47.500000</td>\n",
       "      <td>0.000000</td>\n",
       "      <td>0.000000</td>\n",
       "      <td>120.000000</td>\n",
       "      <td>211.000000</td>\n",
       "      <td>0.000000</td>\n",
       "      <td>0.000000</td>\n",
       "      <td>133.500000</td>\n",
       "      <td>0.000000</td>\n",
       "      <td>0.000000</td>\n",
       "      <td>1.000000</td>\n",
       "      <td>0.000000</td>\n",
       "      <td>2.000000</td>\n",
       "      <td>0.000000</td>\n",
       "    </tr>\n",
       "    <tr>\n",
       "      <th>50%</th>\n",
       "      <td>55.000000</td>\n",
       "      <td>1.000000</td>\n",
       "      <td>1.000000</td>\n",
       "      <td>130.000000</td>\n",
       "      <td>240.000000</td>\n",
       "      <td>0.000000</td>\n",
       "      <td>1.000000</td>\n",
       "      <td>153.000000</td>\n",
       "      <td>0.000000</td>\n",
       "      <td>0.800000</td>\n",
       "      <td>1.000000</td>\n",
       "      <td>0.000000</td>\n",
       "      <td>2.000000</td>\n",
       "      <td>1.000000</td>\n",
       "    </tr>\n",
       "    <tr>\n",
       "      <th>75%</th>\n",
       "      <td>61.000000</td>\n",
       "      <td>1.000000</td>\n",
       "      <td>2.000000</td>\n",
       "      <td>140.000000</td>\n",
       "      <td>274.500000</td>\n",
       "      <td>0.000000</td>\n",
       "      <td>1.000000</td>\n",
       "      <td>166.000000</td>\n",
       "      <td>1.000000</td>\n",
       "      <td>1.600000</td>\n",
       "      <td>2.000000</td>\n",
       "      <td>1.000000</td>\n",
       "      <td>3.000000</td>\n",
       "      <td>1.000000</td>\n",
       "    </tr>\n",
       "    <tr>\n",
       "      <th>max</th>\n",
       "      <td>77.000000</td>\n",
       "      <td>1.000000</td>\n",
       "      <td>3.000000</td>\n",
       "      <td>200.000000</td>\n",
       "      <td>564.000000</td>\n",
       "      <td>1.000000</td>\n",
       "      <td>2.000000</td>\n",
       "      <td>202.000000</td>\n",
       "      <td>1.000000</td>\n",
       "      <td>6.200000</td>\n",
       "      <td>2.000000</td>\n",
       "      <td>4.000000</td>\n",
       "      <td>3.000000</td>\n",
       "      <td>1.000000</td>\n",
       "    </tr>\n",
       "  </tbody>\n",
       "</table>\n",
       "</div>"
      ],
      "text/plain": [
       "              age         sex          cp      trtbps        chol         fbs  \\\n",
       "count  303.000000  303.000000  303.000000  303.000000  303.000000  303.000000   \n",
       "mean    54.366337    0.683168    0.966997  131.623762  246.264026    0.148515   \n",
       "std      9.082101    0.466011    1.032052   17.538143   51.830751    0.356198   \n",
       "min     29.000000    0.000000    0.000000   94.000000  126.000000    0.000000   \n",
       "25%     47.500000    0.000000    0.000000  120.000000  211.000000    0.000000   \n",
       "50%     55.000000    1.000000    1.000000  130.000000  240.000000    0.000000   \n",
       "75%     61.000000    1.000000    2.000000  140.000000  274.500000    0.000000   \n",
       "max     77.000000    1.000000    3.000000  200.000000  564.000000    1.000000   \n",
       "\n",
       "          restecg    thalachh        exng     oldpeak         slp         caa  \\\n",
       "count  303.000000  303.000000  303.000000  303.000000  303.000000  303.000000   \n",
       "mean     0.528053  149.646865    0.326733    1.039604    1.399340    0.729373   \n",
       "std      0.525860   22.905161    0.469794    1.161075    0.616226    1.022606   \n",
       "min      0.000000   71.000000    0.000000    0.000000    0.000000    0.000000   \n",
       "25%      0.000000  133.500000    0.000000    0.000000    1.000000    0.000000   \n",
       "50%      1.000000  153.000000    0.000000    0.800000    1.000000    0.000000   \n",
       "75%      1.000000  166.000000    1.000000    1.600000    2.000000    1.000000   \n",
       "max      2.000000  202.000000    1.000000    6.200000    2.000000    4.000000   \n",
       "\n",
       "            thall      output  \n",
       "count  303.000000  303.000000  \n",
       "mean     2.313531    0.544554  \n",
       "std      0.612277    0.498835  \n",
       "min      0.000000    0.000000  \n",
       "25%      2.000000    0.000000  \n",
       "50%      2.000000    1.000000  \n",
       "75%      3.000000    1.000000  \n",
       "max      3.000000    1.000000  "
      ]
     },
     "execution_count": 4,
     "metadata": {},
     "output_type": "execute_result"
    }
   ],
   "source": [
    "df.describe()"
   ]
  },
  {
   "cell_type": "code",
   "execution_count": 5,
   "id": "d7ac9201",
   "metadata": {},
   "outputs": [
    {
     "name": "stdout",
     "output_type": "stream",
     "text": [
      "<class 'pandas.core.frame.DataFrame'>\n",
      "RangeIndex: 303 entries, 0 to 302\n",
      "Data columns (total 14 columns):\n",
      " #   Column    Non-Null Count  Dtype  \n",
      "---  ------    --------------  -----  \n",
      " 0   age       303 non-null    int64  \n",
      " 1   sex       303 non-null    int64  \n",
      " 2   cp        303 non-null    int64  \n",
      " 3   trtbps    303 non-null    int64  \n",
      " 4   chol      303 non-null    int64  \n",
      " 5   fbs       303 non-null    int64  \n",
      " 6   restecg   303 non-null    int64  \n",
      " 7   thalachh  303 non-null    int64  \n",
      " 8   exng      303 non-null    int64  \n",
      " 9   oldpeak   303 non-null    float64\n",
      " 10  slp       303 non-null    int64  \n",
      " 11  caa       303 non-null    int64  \n",
      " 12  thall     303 non-null    int64  \n",
      " 13  output    303 non-null    int64  \n",
      "dtypes: float64(1), int64(13)\n",
      "memory usage: 33.3 KB\n"
     ]
    }
   ],
   "source": [
    "df.info()"
   ]
  },
  {
   "cell_type": "markdown",
   "id": "4bc79993",
   "metadata": {},
   "source": [
    "### 2. Removing the Outliers"
   ]
  },
  {
   "cell_type": "code",
   "execution_count": 6,
   "id": "b1b56f14",
   "metadata": {},
   "outputs": [
    {
     "name": "stdout",
     "output_type": "stream",
     "text": [
      "Shape before outlier remove:  (303, 14)\n",
      "Shape after outlier remove:  (284, 14)\n"
     ]
    }
   ],
   "source": [
    "print(\"Shape before outlier remove: \", df.shape)\n",
    "# trtbps: Resting blood pressure (in mm Hg)\n",
    "h = 0.99\n",
    "l = 0.01\n",
    "q_h = df['trtbps'].quantile(h)\n",
    "q_l = df['trtbps'].quantile(l)\n",
    "\n",
    "df = df[(df['trtbps'] <= q_h) & (df['trtbps'] >= q_l)]\n",
    "\n",
    "# chol: Cholesterol\n",
    "q_h = df['chol'].quantile(h)\n",
    "q_l = df['chol'].quantile(l)\n",
    "\n",
    "df = df[(df['chol'] <= q_h) & (df['chol'] >= q_l)]\n",
    "\n",
    "# thalachh: Maximum heart rate achieved\n",
    "q_h = df['thalachh'].quantile(h)\n",
    "q_l = df['thalachh'].quantile(l)\n",
    "\n",
    "df = df[(df['thalachh'] <= q_h) & (df['thalachh'] >= q_l)]\n",
    "\n",
    "# oldpeak\n",
    "q_h = df['oldpeak'].quantile(h)\n",
    "q_l = df['oldpeak'].quantile(l)\n",
    "\n",
    "df = df[(df['oldpeak'] <= q_h) & (df['oldpeak'] >= q_l)]\n",
    "print(\"Shape after outlier remove: \", df.shape)"
   ]
  },
  {
   "cell_type": "code",
   "execution_count": 7,
   "id": "dfbbeb4b",
   "metadata": {},
   "outputs": [
    {
     "data": {
      "text/plain": [
       "(284, 14)"
      ]
     },
     "execution_count": 7,
     "metadata": {},
     "output_type": "execute_result"
    }
   ],
   "source": [
    "df.shape"
   ]
  },
  {
   "cell_type": "markdown",
   "id": "b24342fb",
   "metadata": {},
   "source": [
    "#### Sex"
   ]
  },
  {
   "cell_type": "code",
   "execution_count": 8,
   "id": "c7652a4f",
   "metadata": {},
   "outputs": [
    {
     "data": {
      "text/plain": [
       "sex  output\n",
       "1    0         107\n",
       "     1          89\n",
       "0    1          67\n",
       "     0          21\n",
       "dtype: int64"
      ]
     },
     "execution_count": 8,
     "metadata": {},
     "output_type": "execute_result"
    }
   ],
   "source": [
    "df[['sex', 'output']].value_counts()"
   ]
  },
  {
   "cell_type": "code",
   "execution_count": 9,
   "id": "a3b77c94",
   "metadata": {},
   "outputs": [
    {
     "name": "stdout",
     "output_type": "stream",
     "text": [
      "Percent of male patients: 0.4541\n"
     ]
    }
   ],
   "source": [
    "male = df[df['sex'] == 1]['output'].value_counts()\n",
    "print('Percent of male patients: {0:0.4f}'.format(male[1]/male.sum()))"
   ]
  },
  {
   "cell_type": "code",
   "execution_count": 10,
   "id": "9f576fb0",
   "metadata": {},
   "outputs": [
    {
     "name": "stdout",
     "output_type": "stream",
     "text": [
      "Percent of female patients: 0.7614\n"
     ]
    }
   ],
   "source": [
    "female = df[df['sex'] == 0]['output'].value_counts()\n",
    "print('Percent of female patients: {0:0.4f}'.format(female[1]/female.sum()))"
   ]
  },
  {
   "cell_type": "code",
   "execution_count": 11,
   "id": "caf14cb2",
   "metadata": {},
   "outputs": [
    {
     "data": {
      "text/plain": [
       "<AxesSubplot: xlabel='sex', ylabel='count'>"
      ]
     },
     "execution_count": 11,
     "metadata": {},
     "output_type": "execute_result"
    },
    {
     "data": {
      "image/png": "[encoded data removed]",
      "text/plain": [
       "<Figure size 432x288 with 1 Axes>"
      ]
     },
     "metadata": {
      "needs_background": "light"
     },
     "output_type": "display_data"
    }
   ],
   "source": [
    "df_sex = df.loc[:, ['sex', 'output']]\n",
    "df_sex['sex'].replace({0:'Female', 1:'Male'}, inplace=True)\n",
    "sns.countplot(data=df_sex, x='sex', hue='output')"
   ]
  },
  {
   "cell_type": "markdown",
   "id": "4b79670d",
   "metadata": {},
   "source": [
    "#### Age"
   ]
  },
  {
   "cell_type": "code",
   "execution_count": 12,
   "id": "faa05655",
   "metadata": {},
   "outputs": [
    {
     "data": {
      "image/png": "[encoded data removed]",
      "text/plain": [
       "<Figure size 432x288 with 1 Axes>"
      ]
     },
     "metadata": {
      "needs_background": "light"
     },
     "output_type": "display_data"
    }
   ],
   "source": [
    "df_age = df.loc[:, ['age', 'output']]\n",
    "ax = sns.countplot(data=df_age, x='age', hue='output')\n",
    "ax.set_xticklabels(ax.get_xticklabels(), fontsize=7)\n",
    "plt.rcParams[\"figure.figsize\"] = (12, 6)\n",
    "plt.title('Heart Disease Frequency for different Age')\n",
    "plt.xlabel('Age')\n",
    "plt.ylabel('Frequency')\n",
    "plt.tight_layout()\n",
    "plt.show()"
   ]
  },
  {
   "cell_type": "markdown",
   "id": "b88411f2",
   "metadata": {},
   "source": [
    "#### Chest Pain(CP)"
   ]
  },
  {
   "cell_type": "code",
   "execution_count": 13,
   "id": "653e7515",
   "metadata": {},
   "outputs": [
    {
     "data": {
      "text/plain": [
       "0    134\n",
       "2     80\n",
       "1     47\n",
       "3     23\n",
       "Name: cp, dtype: int64"
      ]
     },
     "execution_count": 13,
     "metadata": {},
     "output_type": "execute_result"
    }
   ],
   "source": [
    "df['cp'].value_counts()"
   ]
  },
  {
   "cell_type": "code",
   "execution_count": 14,
   "id": "bd9b4770",
   "metadata": {},
   "outputs": [
    {
     "data": {
      "image/png": "[encoded data removed]",
      "text/plain": [
       "<Figure size 864x432 with 1 Axes>"
      ]
     },
     "metadata": {
      "needs_background": "light"
     },
     "output_type": "display_data"
    }
   ],
   "source": [
    "df_cp = df.loc[:, ['cp', 'output']]\n",
    "\n",
    "chest_pain = {\n",
    "    0: 'Typical Angina',\n",
    "    1: 'Atypical Angina',\n",
    "    2: 'Non-Anginal Pain',\n",
    "    3: 'Asymptomatic'\n",
    "}\n",
    "\n",
    "df_cp['cp'].replace(chest_pain, inplace=True)\n",
    "\n",
    "ax = sns.countplot(data=df_cp, x='cp', hue='output')\n",
    "ax.set_xticklabels(ax.get_xticklabels(), fontsize=10)\n",
    "plt.rcParams[\"figure.figsize\"] = (6, 4)\n",
    "plt.title('Heart Disease Frequency for Chest Pain')\n",
    "plt.xlabel('Chest Pain')\n",
    "plt.ylabel('Frequency')\n",
    "plt.tight_layout()\n",
    "plt.show()"
   ]
  },
  {
   "cell_type": "markdown",
   "id": "494ff23e",
   "metadata": {},
   "source": [
    "#### Coronary Artery Anomalies"
   ]
  },
  {
   "cell_type": "code",
   "execution_count": 15,
   "id": "d1e01cdd",
   "metadata": {},
   "outputs": [
    {
     "data": {
      "text/plain": [
       "0    167\n",
       "1     59\n",
       "2     35\n",
       "3     18\n",
       "4      5\n",
       "Name: caa, dtype: int64"
      ]
     },
     "execution_count": 15,
     "metadata": {},
     "output_type": "execute_result"
    }
   ],
   "source": [
    "df['caa'].value_counts()"
   ]
  },
  {
   "cell_type": "code",
   "execution_count": 16,
   "id": "9ecfafa9",
   "metadata": {},
   "outputs": [
    {
     "data": {
      "image/png": "[encoded data removed]",
      "text/plain": [
       "<Figure size 432x288 with 1 Axes>"
      ]
     },
     "metadata": {
      "needs_background": "light"
     },
     "output_type": "display_data"
    }
   ],
   "source": [
    "df_caa = df.loc[:, ['caa', 'output']]\n",
    "\n",
    "chest_pain = {\n",
    "    0: 'no Artery',\n",
    "    1: '1 Artery',\n",
    "    2: '2 Arteries',\n",
    "    3: '3 Arteries',\n",
    "    4: '4 Arteries'\n",
    "}\n",
    "\n",
    "df_caa['caa'].replace(chest_pain, inplace=True)\n",
    "\n",
    "ax = sns.countplot(data=df_caa, x='caa', hue='output')\n",
    "ax.set_xticklabels(ax.get_xticklabels(), fontsize=10)\n",
    "plt.rcParams[\"figure.figsize\"] = (6, 4)\n",
    "plt.title('Heart Disease Frequency for CAA')\n",
    "plt.xlabel('Coronary Artery Anomaly')\n",
    "plt.ylabel('Frequency')\n",
    "plt.tight_layout()\n",
    "plt.show()"
   ]
  },
  {
   "cell_type": "markdown",
   "id": "94871398",
   "metadata": {},
   "source": [
    "#### Maximum Heart Rate achieved"
   ]
  },
  {
   "cell_type": "code",
   "execution_count": 17,
   "id": "4a98aad1",
   "metadata": {},
   "outputs": [
    {
     "data": {
      "text/plain": [
       "Text(0, 0.5, 'Maximum heart rate achieved')"
      ]
     },
     "execution_count": 17,
     "metadata": {},
     "output_type": "execute_result"
    },
    {
     "data": {
      "image/png": "[encoded data removed]",
      "text/plain": [
       "<Figure size 432x288 with 1 Axes>"
      ]
     },
     "metadata": {
      "needs_background": "light"
     },
     "output_type": "display_data"
    }
   ],
   "source": [
    "df_bp = df.loc[:, ['age', 'thalachh', 'sex']]\n",
    "df_bp['sex'].replace({0:'Female', 1:'Male'}, inplace=True)\n",
    "sns.scatterplot(data=df_bp, x='age', y='thalachh', hue='sex')\n",
    "plt.title('Maximum heart rate achieved for Age')\n",
    "plt.xlabel('Age')\n",
    "plt.ylabel('Maximum heart rate achieved')"
   ]
  },
  {
   "cell_type": "markdown",
   "id": "464d5128",
   "metadata": {},
   "source": [
    "# Model Selection"
   ]
  },
  {
   "cell_type": "markdown",
   "id": "62a41551",
   "metadata": {},
   "source": [
    "### Normalize Features and Split Data"
   ]
  },
  {
   "cell_type": "code",
   "execution_count": 25,
   "id": "3a3bb5ea",
   "metadata": {},
   "outputs": [],
   "source": [
    "from sklearn.preprocessing import StandardScaler\n",
    "from sklearn.model_selection import train_test_split\n",
    "\n",
    "# defining the features and target\n",
    "X = df.drop(['output'], axis=1)\n",
    "y = df['output']\n",
    "\n",
    "X_train, X_test, y_train, y_test = train_test_split(X, y, test_size=0.3, random_state=1)\n",
    "\n",
    "scaler = StandardScaler()\n",
    "scaler.fit(X)\n",
    "X_train = scaler.transform(X_train)\n",
    "X_test = scaler.transform(X_test)"
   ]
  },
  {
   "cell_type": "markdown",
   "id": "7b43546c",
   "metadata": {},
   "source": [
    "### 1. Decision Tree"
   ]
  },
  {
   "cell_type": "code",
   "execution_count": 26,
   "id": "110ac622",
   "metadata": {},
   "outputs": [
    {
     "name": "stdout",
     "output_type": "stream",
     "text": [
      "Decision Tree Test Accuracy Score: 0.7558\n"
     ]
    }
   ],
   "source": [
    "from sklearn.tree import DecisionTreeClassifier\n",
    "from sklearn.model_selection import GridSearchCV\n",
    "from sklearn.tree import export_graphviz\n",
    "import graphviz\n",
    "\n",
    "accuracies = dict()\n",
    "\n",
    "param_grid = {\n",
    "    'min_samples_leaf': [1, 3],\n",
    "    'max_depth': [5, 15, 25],\n",
    "    'max_leaf_nodes': [10, 20, 30, 50]\n",
    "}\n",
    "\n",
    "dt = DecisionTreeClassifier()\n",
    "gs = GridSearchCV(dt, param_grid, scoring='f1', cv=5)\n",
    "\n",
    "gs.fit(X_train, y_train)\n",
    "\n",
    "best_model = gs.best_estimator_\n",
    "\n",
    "# save image of tree\n",
    "dot_file = export_graphviz(best_model, feature_names=X.columns.values.tolist())\n",
    "graph = graphviz.Source(dot_file)\n",
    "graph.render(filename='tree', format='png', cleanup=True)\n",
    "\n",
    "acc = best_model.score(X_test, y_test)\n",
    "accuracies['Decision Tree'] = round(acc, 2)\n",
    "print(\"Decision Tree Test Accuracy Score: {0:0.4f}\".format(acc))"
   ]
  },
  {
   "cell_type": "markdown",
   "id": "ff580a95",
   "metadata": {},
   "source": [
    "### 2. Random Forest"
   ]
  },
  {
   "cell_type": "code",
   "execution_count": 27,
   "id": "338903b5",
   "metadata": {},
   "outputs": [
    {
     "name": "stdout",
     "output_type": "stream",
     "text": [
      "Random Forest Accuracy Score: 0.8023\n"
     ]
    }
   ],
   "source": [
    "# Random Forest Classification\n",
    "from sklearn.ensemble import RandomForestClassifier\n",
    "\n",
    "param_grid = {\n",
    "    'n_estimators': [10, 25, 50, 100, 500, 1000]\n",
    "}\n",
    "\n",
    "rf = RandomForestClassifier(random_state = 1)\n",
    "\n",
    "gs = GridSearchCV(rf, param_grid, scoring='f1', cv=5)\n",
    "\n",
    "gs.fit(X_train, y_train)\n",
    "\n",
    "best_model = gs.best_estimator_\n",
    "\n",
    "acc = best_model.score(X_test, y_test)\n",
    "accuracies['Random Forest'] = round(acc, 2)\n",
    "print(\"Random Forest Accuracy Score: {0:0.4f}\".format(acc))"
   ]
  },
  {
   "cell_type": "markdown",
   "id": "83084d81",
   "metadata": {},
   "source": [
    "### 3. SVM"
   ]
  },
  {
   "cell_type": "code",
   "execution_count": 28,
   "id": "c0f1add7",
   "metadata": {},
   "outputs": [
    {
     "name": "stdout",
     "output_type": "stream",
     "text": [
      "Best SVM model:  SVC(C=10, gamma=0.01, kernel='sigmoid', random_state=1)\n",
      "Test Accuracy of SVM: 0.8140\n"
     ]
    }
   ],
   "source": [
    "from sklearn.svm import SVC\n",
    "\n",
    "param_grid = {\n",
    "    'C': [0.1,1, 10, 100], \n",
    "    'gamma': [1,0.1,0.01,0.001],\n",
    "    'kernel': ['rbf', 'poly', 'sigmoid']\n",
    "}\n",
    "\n",
    "svm = SVC(random_state = 1)\n",
    "\n",
    "gs = GridSearchCV(svm, param_grid, scoring='f1', cv=5)\n",
    "\n",
    "gs.fit(X_train, y_train)\n",
    "\n",
    "best_model = gs.best_estimator_\n",
    "acc = best_model.score(X_test, y_test)\n",
    "accuracies['SVM'] = round(acc, 2)\n",
    "print(\"Best SVM model: \", best_model)\n",
    "print(\"Test Accuracy of SVM: {:0.4f}\".format(acc))"
   ]
  },
  {
   "cell_type": "markdown",
   "id": "abdd74b3",
   "metadata": {},
   "source": [
    "### 4. KNN"
   ]
  },
  {
   "cell_type": "code",
   "execution_count": 29,
   "id": "db784ffc",
   "metadata": {},
   "outputs": [
    {
     "name": "stdout",
     "output_type": "stream",
     "text": [
      "Best KNN model:  KNeighborsClassifier(n_neighbors=27)\n",
      "Test Accuracy of KNN: 0.7907\n"
     ]
    },
    {
     "data": {
      "image/png": "[encoded data removed]",
      "text/plain": [
       "<Figure size 432x288 with 1 Axes>"
      ]
     },
     "metadata": {
      "needs_background": "light"
     },
     "output_type": "display_data"
    }
   ],
   "source": [
    "from sklearn.neighbors import KNeighborsClassifier\n",
    "\n",
    "param_grid = {\n",
    "    'n_neighbors': list(np.arange(1, 30, 1))\n",
    "}\n",
    "\n",
    "knn = KNeighborsClassifier()\n",
    "gs = GridSearchCV(knn, param_grid, scoring='f1', cv=5)\n",
    "gs.fit(X_train, y_train)\n",
    "\n",
    "best_model = gs.best_estimator_\n",
    "acc = best_model.score(X_test, y_test)\n",
    "accuracies['KNN'] = round(acc, 2)\n",
    "print(\"Best KNN model: \", best_model)\n",
    "print(\"Test Accuracy of KNN: {:0.4f}\".format(acc))\n",
    "\n",
    "\n",
    "allscores = gs.cv_results_['mean_test_score']\n",
    "params = param_grid['n_neighbors']\n",
    "    \n",
    "plt.plot(params, allscores)\n",
    "plt.xticks(np.arange(1, 30, 1))\n",
    "plt.xlabel(\"K value\")\n",
    "plt.ylabel(\"Score\")\n",
    "plt.show()"
   ]
  },
  {
   "cell_type": "markdown",
   "id": "c227d231",
   "metadata": {},
   "source": [
    "### 5. Logistic Regression"
   ]
  },
  {
   "cell_type": "code",
   "execution_count": 33,
   "id": "bb21e48c",
   "metadata": {},
   "outputs": [
    {
     "name": "stdout",
     "output_type": "stream",
     "text": [
      "Test Accuracy of Logistic Regression: 0.8140\n"
     ]
    }
   ],
   "source": [
    "from sklearn.linear_model import LogisticRegression\n",
    "\n",
    "lr = LogisticRegression(random_state=1)\n",
    "lr.fit(X_train, y_train)\n",
    "\n",
    "y_pred = lr.predict(X_test)\n",
    "\n",
    "acc = lr.score(X_test, y_test)\n",
    "accuracies['Logistic Regression'] = round(acc, 2)\n",
    "print(\"Test Accuracy of Logistic Regression: {:0.4f}\".format(acc))"
   ]
  },
  {
   "cell_type": "code",
   "execution_count": 41,
   "id": "4e50a455",
   "metadata": {
    "scrolled": true
   },
   "outputs": [
    {
     "name": "stdout",
     "output_type": "stream",
     "text": [
      "Precision: 0.6585\n",
      "Recall: 0.9310\n",
      "F1 score: 0.7714\n"
     ]
    }
   ],
   "source": [
    "# Confusion matrix\n",
    "from sklearn.metrics import confusion_matrix\n",
    "\n",
    "cm = confusion_matrix(y_test, y_pred)\n",
    "tp = cm[0, 0]\n",
    "fp = cm[0, 1]\n",
    "fn = cm[1, 0]\n",
    "tn = cm[1, 1]\n",
    "\n",
    "precision = tp/(tp + fp)\n",
    "print(\"Precision: {0:0.4f}\".format(precision))\n",
    "\n",
    "recall = tp/(tp + fn)\n",
    "print(\"Recall: {0:0.4f}\".format(recall))\n",
    "\n",
    "f1 = 2 * (precision * recall) / (precision + recall)\n",
    "print(\"F1 score: {0:0.4f}\".format(f1))"
   ]
  },
  {
   "cell_type": "code",
   "execution_count": 43,
   "id": "cf2172dd",
   "metadata": {},
   "outputs": [
    {
     "data": {
      "text/plain": [
       "<AxesSubplot: >"
      ]
     },
     "execution_count": 43,
     "metadata": {},
     "output_type": "execute_result"
    },
    {
     "data": {
      "image/png": "[encoded data removed]",
      "text/plain": [
       "<Figure size 432x288 with 2 Axes>"
      ]
     },
     "metadata": {
      "needs_background": "light"
     },
     "output_type": "display_data"
    }
   ],
   "source": [
    "sns.heatmap(cm, annot=True)"
   ]
  },
  {
   "cell_type": "code",
   "execution_count": 31,
   "id": "de064692",
   "metadata": {},
   "outputs": [
    {
     "data": {
      "text/plain": [
       "{'Decision Tree': 0.76,\n",
       " 'Random Forest': 0.8,\n",
       " 'SVM': 0.81,\n",
       " 'KNN': 0.79,\n",
       " 'Logistic Regression': 0.81}"
      ]
     },
     "execution_count": 31,
     "metadata": {},
     "output_type": "execute_result"
    }
   ],
   "source": [
    "accuracies"
   ]
  }
 ],
 "metadata": {
  "kernelspec": {
   "display_name": "Python 3 (ipykernel)",
   "language": "python",
   "name": "python3"
  },
  "language_info": {
   "codemirror_mode": {
    "name": "ipython",
    "version": 3
   },
   "file_extension": ".py",
   "mimetype": "text/x-python",
   "name": "python",
   "nbconvert_exporter": "python",
   "pygments_lexer": "ipython3",
   "version": "3.9.13"
  }
 },
 "nbformat": 4,
 "nbformat_minor": 5
}
